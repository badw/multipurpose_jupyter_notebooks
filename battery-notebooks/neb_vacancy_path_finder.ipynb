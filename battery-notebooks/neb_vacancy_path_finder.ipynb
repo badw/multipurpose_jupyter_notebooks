{
 "cells": [
  {
   "cell_type": "code",
   "execution_count": 77,
   "id": "abb9671b-c73f-431f-acad-dc58505022b2",
   "metadata": {},
   "outputs": [],
   "source": [
    "from pymatgen.core import Structure\n",
    "from pymatgen.analysis.diffusion.neb.full_path_mapper import MigrationGraph\n",
    "from pymatgen.analysis.diffusion.neb.io import get_endpoints_from_index"
   ]
  },
  {
   "cell_type": "markdown",
   "id": "3260ff2e-5fce-4a1b-a621-c73ba535676c",
   "metadata": {},
   "source": [
    "1. Load our supercell as `struct`"
   ]
  },
  {
   "cell_type": "code",
   "execution_count": 23,
   "id": "fee89b05-afbf-429e-a66f-52fa45716003",
   "metadata": {},
   "outputs": [],
   "source": [
    "struct = Structure.from_file('POSCAR.vasp') # load the structure (POSCAR) "
   ]
  },
  {
   "cell_type": "markdown",
   "id": "8a0051d3-35d3-4c6d-9f38-a9e5edaf746a",
   "metadata": {},
   "source": [
    "2. Generate a `MigrationGraph` object and define all Li paths (with `max_distance=4`)"
   ]
  },
  {
   "cell_type": "code",
   "execution_count": 74,
   "id": "1642f8fd-1874-4da5-85fc-8700368a6651",
   "metadata": {},
   "outputs": [],
   "source": [
    "mg = MigrationGraph.with_distance(structure=struct,\n",
    "                                  migrating_specie=\"Li\",\n",
    "                                  max_distance=4)"
   ]
  },
  {
   "cell_type": "code",
   "execution_count": 75,
   "id": "74528e82-e26e-4200-83fa-6ed453f7cd1b",
   "metadata": {},
   "outputs": [
    {
     "name": "stdout",
     "output_type": "stream",
     "text": [
      "Number of unique hops = 3\n"
     ]
    }
   ],
   "source": [
    "print(\"Number of unique hops =\", len(mg.unique_hops))"
   ]
  },
  {
   "cell_type": "markdown",
   "id": "b9c5be6f-9d77-4c21-ab63-f1bb376f7b0b",
   "metadata": {},
   "source": [
    "3. You can also weight the \"graph\" with hop distance or other parameter such as energy barrier to then get a full path through a material"
   ]
  },
  {
   "cell_type": "code",
   "execution_count": 76,
   "id": "83427c48-6214-43e7-a901-b3af15907986",
   "metadata": {},
   "outputs": [],
   "source": [
    "#mg.assign_cost_to_graph(cost_keys=[\"hop_distance\"])\n",
    "#paths = [x for x in mg.get_path()]"
   ]
  },
  {
   "cell_type": "markdown",
   "id": "306c533c-5702-4756-b534-26d8b5f787c2",
   "metadata": {},
   "source": [
    "4. in terms of a vacancy diffusion, we can grab the atom indexes of Li endpoints for our NEB calculations "
   ]
  },
  {
   "cell_type": "code",
   "execution_count": 78,
   "id": "50082c0e-ef7a-4339-8816-397e3230612b",
   "metadata": {},
   "outputs": [],
   "source": [
    "unique_hops = mg.unique_hops\n",
    "paths = {}\n",
    "for k,v in unique_hops.items():\n",
    "    paths[k] = {'init':v['iindex'],'final':v['eindex']} # make a dict of init and final atoms so that we can neb"
   ]
  },
  {
   "cell_type": "code",
   "execution_count": 79,
   "id": "30401a5a-3772-41ea-a6eb-4ecf2a7a930e",
   "metadata": {},
   "outputs": [
    {
     "data": {
      "text/plain": [
       "{0: {'init': 0, 'final': 12},\n",
       " 2: {'init': 0, 'final': 24},\n",
       " 1: {'init': 0, 'final': 20}}"
      ]
     },
     "execution_count": 79,
     "metadata": {},
     "output_type": "execute_result"
    }
   ],
   "source": [
    "paths"
   ]
  },
  {
   "cell_type": "markdown",
   "id": "03c3b9ec-614b-4239-a1af-b6af812ed198",
   "metadata": {},
   "source": [
    "5. now we can get the structures of each end point (which should be sorted so that no dodgy nebs occur) "
   ]
  },
  {
   "cell_type": "code",
   "execution_count": 80,
   "id": "33fc9f06-630b-4287-ad73-3006bff95b0a",
   "metadata": {},
   "outputs": [],
   "source": [
    "struct = Structure.from_file('POSCAR.vasp') \n",
    "endpoints = {}\n",
    "for path in paths:\n",
    "    endpoints[path] = get_endpoints_from_index(struct,[paths[path]['init'],paths[path]['final']])"
   ]
  },
  {
   "cell_type": "markdown",
   "id": "4c792bf9-b148-4981-a5eb-a9317e55d035",
   "metadata": {},
   "source": [
    "6. Finally write to file"
   ]
  },
  {
   "cell_type": "code",
   "execution_count": 81,
   "id": "edac54a4-5dfb-45c7-82ee-9f9a39b89727",
   "metadata": {},
   "outputs": [],
   "source": [
    "for path in endpoints: #write to files to view later\n",
    "    endpoints[path][0].to(filename='POSCAR_path_{}_init.vasp'.format(path),fmt='poscar')\n",
    "    endpoints[path][1].to(filename='POSCAR_path_{}_final.vasp'.format(path),fmt='poscar')"
   ]
  },
  {
   "cell_type": "markdown",
   "id": "27ea816a-ff56-4c5c-adab-1f2569424a27",
   "metadata": {},
   "source": [
    "7. No depresso, more espresso"
   ]
  }
 ],
 "metadata": {
  "kernelspec": {
   "display_name": "Python 3 (ipykernel)",
   "language": "python",
   "name": "python3"
  },
  "language_info": {
   "codemirror_mode": {
    "name": "ipython",
    "version": 3
   },
   "file_extension": ".py",
   "mimetype": "text/x-python",
   "name": "python",
   "nbconvert_exporter": "python",
   "pygments_lexer": "ipython3",
   "version": "3.8.12"
  }
 },
 "nbformat": 4,
 "nbformat_minor": 5
}
